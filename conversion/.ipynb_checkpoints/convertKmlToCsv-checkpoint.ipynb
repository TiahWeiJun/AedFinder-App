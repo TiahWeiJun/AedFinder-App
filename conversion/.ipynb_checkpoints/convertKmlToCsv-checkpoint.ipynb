{
 "cells": [
  {
   "cell_type": "code",
   "execution_count": 13,
   "metadata": {},
   "outputs": [],
   "source": [
    "import re\n",
    "from bs4 import BeautifulSoup\n",
    "from pykml import parser\n",
    "import pandas as pd\n",
    "\n"
   ]
  },
  {
   "cell_type": "code",
   "execution_count": 5,
   "metadata": {},
   "outputs": [],
   "source": [
    "def getAedInfo(kmlDescription,requiredFields):\n",
    "    eateryInfo = {}\n",
    "    delimeters = '|'.join([f'({field})'for field in requiredFields])\n",
    "    kmlDescription = re.split(delimeters,str(kmlDescription))\n",
    "    kmlDescription = list(filter(lambda a: a != None, kmlDescription))\n",
    "    for i,obj in enumerate(kmlDescription):\n",
    "        if obj in requiredFields:\n",
    "            eateryInfo[obj]=kmlDescription[i+1].split('</td>')[0].split('<td>')[-1]\n",
    "    return eateryInfo\n",
    "def clean_coordinates_col(coord):\n",
    "    coord = coord.split(',')\n",
    "    return f'{coord[1]},{coord[0]}'\n",
    "def clean_name_col(NAME):\n",
    "    return NAME.split('-')[0]\n",
    "def clean_unit_col(UNIT):\n",
    "    return UNIT.split(',')[0]"
   ]
  },
  {
   "cell_type": "code",
   "execution_count": 11,
   "metadata": {},
   "outputs": [
    {
     "ename": "NameError",
     "evalue": "name 'parser' is not defined",
     "output_type": "error",
     "traceback": [
      "\u001b[1;31m---------------------------------------------------------------------------\u001b[0m",
      "\u001b[1;31mNameError\u001b[0m                                 Traceback (most recent call last)",
      "\u001b[1;32m<ipython-input-11-a843d56cef69>\u001b[0m in \u001b[0;36m<module>\u001b[1;34m\u001b[0m\n\u001b[0;32m      1\u001b[0m \u001b[0mfilename\u001b[0m\u001b[1;33m=\u001b[0m\u001b[1;34mr\"C:\\Users\\tiahw\\Documents\\Projects\\AedFinder\\public-access-aed-locations-kml.kml\"\u001b[0m\u001b[1;33m\u001b[0m\u001b[1;33m\u001b[0m\u001b[0m\n\u001b[0;32m      2\u001b[0m \u001b[1;32mwith\u001b[0m \u001b[0mopen\u001b[0m\u001b[1;33m(\u001b[0m\u001b[0mfilename\u001b[0m\u001b[1;33m)\u001b[0m \u001b[1;32mas\u001b[0m \u001b[0mf\u001b[0m\u001b[1;33m:\u001b[0m\u001b[1;33m\u001b[0m\u001b[1;33m\u001b[0m\u001b[0m\n\u001b[1;32m----> 3\u001b[1;33m     \u001b[0mfolder\u001b[0m \u001b[1;33m=\u001b[0m \u001b[0mparser\u001b[0m\u001b[1;33m.\u001b[0m\u001b[0mparse\u001b[0m\u001b[1;33m(\u001b[0m\u001b[0mf\u001b[0m\u001b[1;33m)\u001b[0m\u001b[1;33m.\u001b[0m\u001b[0mgetroot\u001b[0m\u001b[1;33m(\u001b[0m\u001b[1;33m)\u001b[0m\u001b[1;33m.\u001b[0m\u001b[0mDocument\u001b[0m\u001b[1;33m.\u001b[0m\u001b[0mFolder\u001b[0m\u001b[1;33m\u001b[0m\u001b[1;33m\u001b[0m\u001b[0m\n\u001b[0m\u001b[0;32m      4\u001b[0m \u001b[1;33m\u001b[0m\u001b[0m\n\u001b[0;32m      5\u001b[0m \u001b[0mrequiredFields\u001b[0m \u001b[1;33m=\u001b[0m \u001b[1;33m[\u001b[0m\u001b[1;34m'ADDRESSBLOCKHOUSENUMBER'\u001b[0m\u001b[1;33m,\u001b[0m\u001b[1;34m'ADDRESSBUILDINGNAME'\u001b[0m\u001b[1;33m,\u001b[0m\u001b[1;34m'ADDRESSPOSTALCODE'\u001b[0m\u001b[1;33m,\u001b[0m\u001b[1;34m'ADDRESSSTREETNAME'\u001b[0m\u001b[1;33m,\u001b[0m\u001b[1;34m'NAME'\u001b[0m\u001b[1;33m,\u001b[0m\u001b[1;34m'ADDRESSFLOORNUMBER'\u001b[0m\u001b[1;33m,\u001b[0m\u001b[1;34m'ADDRESSUNITNUMBER'\u001b[0m\u001b[1;33m]\u001b[0m\u001b[1;33m\u001b[0m\u001b[1;33m\u001b[0m\u001b[0m\n",
      "\u001b[1;31mNameError\u001b[0m: name 'parser' is not defined"
     ]
    }
   ],
   "source": [
    "filename=r\"C:\\Users\\tiahw\\Documents\\Projects\\AedFinder\\public-access-aed-locations-kml.kml\"\n",
    "with open(filename) as f:\n",
    "    folder = parser.parse(f).getroot().Document.Folder\n",
    "    \n",
    "requiredFields = ['ADDRESSBLOCKHOUSENUMBER','ADDRESSBUILDINGNAME','ADDRESSPOSTALCODE','ADDRESSSTREETNAME','NAME','ADDRESSFLOORNUMBER','ADDRESSUNITNUMBER']\n",
    "\n",
    "cordi=[]\n",
    "db=pd.DataFrame()\n",
    "for pm in folder.Placemark:\n",
    "    plcs1=pm.Point.coordinates\n",
    "    cordi.append(plcs1.text)\n",
    "    db = db.append(getEateryInfo(pm.description,requiredFields),ignore_index=True)\n",
    "db['coordinates']=cordi\n",
    "db['coordinates'] = db.coordinates.apply(clean_coordinates_col)\n",
    "db['NAME'] = db.NAME.apply(clean_name_col)\n",
    "db['ADDRESSUNITNUMBER'] = db.ADDRESSUNITNUMBER.apply(clean_unit_col)\n",
    "db.rename(columns = {'NAME':'name'},inplace=True)\n",
    "db['address'] = db.ADDRESSBUILDINGNAME+' '+db.ADDRESSSTREETNAME+' #'+db.ADDRESSFLOORNUMBER+'-'+db.ADDRESSUNITNUMBER+' Singapore '+db.ADDRESSPOSTALCODE"
   ]
  },
  {
   "cell_type": "code",
   "execution_count": null,
   "metadata": {},
   "outputs": [],
   "source": []
  }
 ],
 "metadata": {
  "kernelspec": {
   "display_name": "Python 3",
   "language": "python",
   "name": "python3"
  },
  "language_info": {
   "codemirror_mode": {
    "name": "ipython",
    "version": 3
   },
   "file_extension": ".py",
   "mimetype": "text/x-python",
   "name": "python",
   "nbconvert_exporter": "python",
   "pygments_lexer": "ipython3",
   "version": "3.8.5"
  }
 },
 "nbformat": 4,
 "nbformat_minor": 4
}
